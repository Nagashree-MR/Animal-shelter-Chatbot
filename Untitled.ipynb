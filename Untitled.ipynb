{
 "cells": [
  {
   "cell_type": "code",
   "execution_count": 15,
   "id": "87f47c32-3317-4caa-85f3-8cdb99861f87",
   "metadata": {},
   "outputs": [
    {
     "name": "stdout",
     "output_type": "stream",
     "text": [
      "Database will be created at: C:\\Users\\nagas\\Adv web App S2\\LAB07 Flask App\\users.db\n",
      "Attempting to read CSV from: C:\\Users\\nagas\\Adv web App S2\\LAB07 Flask App\\austin_animal_shelter_cleaned_data.csv\n",
      "Old database deleted. Creating a new one.\n",
      "Database connected.\n",
      "Creating 'users' table...\n",
      "'users' table created successfully.\n",
      "Loading data from CSV...\n",
      "Successfully read 173729 rows from the CSV file.\n",
      "Data loaded into 'animal_data' table.\n",
      "VERIFICATION SUCCESS: The 'animal_data' table now contains 173729 rows.\n",
      "Process finished.\n"
     ]
    }
   ],
   "source": [
    "# In your Jupyter Notebook\n",
    "\n",
    "import pandas as pd\n",
    "import sqlite3\n",
    "import os\n",
    "\n",
    "# --- Step 1: Define the correct paths ---\n",
    "PROJECT_FOLDER = r'C:\\Users\\nagas\\Adv web App S2\\LAB07 Flask App'\n",
    "DATABASE_PATH = os.path.join(PROJECT_FOLDER, 'users.db')\n",
    "# Make sure the CSV file is in the same folder as the notebook, or provide a full path.\n",
    "CSV_PATH = os.path.join(PROJECT_FOLDER, 'austin_animal_shelter_cleaned_data.csv') \n",
    "\n",
    "print(f\"Database will be created at: {DATABASE_PATH}\")\n",
    "print(f\"Attempting to read CSV from: {CSV_PATH}\")\n",
    "\n",
    "# --- Step 2: Delete old DB and connect to a new one ---\n",
    "if os.path.exists(DATABASE_PATH):\n",
    "    os.remove(DATABASE_PATH)\n",
    "    print(\"Old database deleted. Creating a new one.\")\n",
    "conn = sqlite3.connect(DATABASE_PATH)\n",
    "cur = conn.cursor()\n",
    "print(\"Database connected.\")\n",
    "\n",
    "# --- Step 3: Create the 'users' table ---\n",
    "print(\"Creating 'users' table...\")\n",
    "cur.execute('''\n",
    "    CREATE TABLE IF NOT EXISTS users (\n",
    "        id INTEGER PRIMARY KEY AUTOINCREMENT,\n",
    "        first_name TEXT NOT NULL,\n",
    "        last_name TEXT NOT NULL,\n",
    "        email TEXT NOT NULL UNIQUE,\n",
    "        password TEXT NOT NULL\n",
    "    )\n",
    "''')\n",
    "print(\"'users' table created successfully.\")\n",
    "\n",
    "# --- Step 4: Load the animal data from the CSV with error checking ---\n",
    "try:\n",
    "    print(\"Loading data from CSV...\")\n",
    "    df = pd.read_csv(CSV_PATH, low_memory=False)\n",
    "    print(f\"Successfully read {len(df)} rows from the CSV file.\")\n",
    "    \n",
    "    # Load data into the 'animal_data' table\n",
    "    df.to_sql('animal_data', conn, if_exists='replace', index=False)\n",
    "    print(\"Data loaded into 'animal_data' table.\")\n",
    "\n",
    "    # --- Step 5: VERIFY the data was loaded ---\n",
    "    cur.execute('SELECT COUNT(*) FROM animal_data')\n",
    "    row_count = cur.fetchone()[0]\n",
    "    print(f\"VERIFICATION SUCCESS: The 'animal_data' table now contains {row_count} rows.\")\n",
    "\n",
    "except FileNotFoundError:\n",
    "    print(f\"FATAL ERROR: The CSV file was not found at the path: {CSV_PATH}\")\n",
    "except Exception as e:\n",
    "    print(f\"An error occurred: {e}\")\n",
    "finally:\n",
    "    # --- Step 6: Commit changes and close ---\n",
    "    conn.commit()\n",
    "    conn.close()\n",
    "    print(\"Process finished.\")"
   ]
  },
  {
   "cell_type": "code",
   "execution_count": null,
   "id": "d5898212-c4b3-4f2e-be24-05ea27a367ba",
   "metadata": {},
   "outputs": [],
   "source": [
    "\n"
   ]
  }
 ],
 "metadata": {
  "kernelspec": {
   "display_name": "Python 3 (ipykernel)",
   "language": "python",
   "name": "python3"
  },
  "language_info": {
   "codemirror_mode": {
    "name": "ipython",
    "version": 3
   },
   "file_extension": ".py",
   "mimetype": "text/x-python",
   "name": "python",
   "nbconvert_exporter": "python",
   "pygments_lexer": "ipython3",
   "version": "3.12.4"
  }
 },
 "nbformat": 4,
 "nbformat_minor": 5
}
