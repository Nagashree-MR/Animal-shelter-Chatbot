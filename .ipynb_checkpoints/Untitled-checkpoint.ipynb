{
 "cells": [
  {
   "cell_type": "code",
   "execution_count": 5,
   "id": "87f47c32-3317-4caa-85f3-8cdb99861f87",
   "metadata": {},
   "outputs": [
    {
     "name": "stdout",
     "output_type": "stream",
     "text": [
      "Database will be created at: C:\\Users\\nagas\\Adv web App S2\\LAB07 Flask App\\users.db\n",
      "Data loaded successfully into 'animal_data' table.\n",
      "Process finished.\n"
     ]
    }
   ],
   "source": [
    "import pandas as pd\n",
    "import sqlite3\n",
    "import os\n",
    "\n",
    "# --- THIS IS THE KEY ---\n",
    "# The full, absolute path to your project folder.\n",
    "# We add 'users.db' to the end to name the file.\n",
    "# The 'r' before the string is important; it tells Python to treat backslashes as normal characters.\n",
    "PROJECT_FOLDER = r'C:\\Users\\nagas\\Adv web App S2\\LAB07 Flask App'\n",
    "DATABASE_PATH = os.path.join(PROJECT_FOLDER, 'users.db')\n",
    "\n",
    "print(f\"Database will be created at: {DATABASE_PATH}\")\n",
    "\n",
    "# Load the cleaned CSV\n",
    "df = pd.read_csv('austin_animal_shelter_cleaned_data.csv', low_memory=False)\n",
    "\n",
    "# Connect to the database using the full path\n",
    "conn = sqlite3.connect(DATABASE_PATH)\n",
    "\n",
    "# Load data into a new table named 'animal_data'\n",
    "# This will create the users.db file in the correct location and add the table.\n",
    "df.to_sql('animal_data', conn, if_exists='replace', index=False)\n",
    "\n",
    "print(\"Data loaded successfully into 'animal_data' table.\")\n",
    "conn.close()\n",
    "\n",
    "print(\"Process finished.\")"
   ]
  },
  {
   "cell_type": "code",
   "execution_count": null,
   "id": "d5898212-c4b3-4f2e-be24-05ea27a367ba",
   "metadata": {},
   "outputs": [],
   "source": [
    "\n"
   ]
  }
 ],
 "metadata": {
  "kernelspec": {
   "display_name": "Python 3 (ipykernel)",
   "language": "python",
   "name": "python3"
  },
  "language_info": {
   "codemirror_mode": {
    "name": "ipython",
    "version": 3
   },
   "file_extension": ".py",
   "mimetype": "text/x-python",
   "name": "python",
   "nbconvert_exporter": "python",
   "pygments_lexer": "ipython3",
   "version": "3.12.4"
  }
 },
 "nbformat": 4,
 "nbformat_minor": 5
}
